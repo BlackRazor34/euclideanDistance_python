{
 "cells": [
  {
   "cell_type": "code",
   "execution_count": 8,
   "id": "b721498a",
   "metadata": {},
   "outputs": [
    {
     "name": "stdout",
     "output_type": "stream",
     "text": [
      "Minimum mesafe :  2.8284271247461903\n"
     ]
    }
   ],
   "source": [
    "\n",
    "import math   # matematiksel işlemler yapmamızı kolaylaştırmak için yazılmış bir modüldür\n",
    "\n",
    "# İçinde tuple değerler olan bir liste oluşturduk\n",
    "points = [(1,2), (3,4), (5,6)]\n",
    "\n",
    "# Öklid mesafesini döndüren fonksiyon tanımladık\n",
    "def euclideanDistance(point1, point2):\n",
    "    x1, y1 = point1 \n",
    "    x2, y2 = point2\n",
    "    return math.sqrt((x2-x1)**2 + (y2-y1)**2 ) # formülün karekökünü almak için math.sqrt kullandık\n",
    "\n",
    "distances = [] # öklid mesafelerini hesaplayıp buraya atıcaz\n",
    "\n",
    "for i in range(len(points)): # liste içindeki tupleları çıkarıyoruz\n",
    "    for p in range(i + 1, len(points)): # tuple içindeki değerleri çıkarıyoruz ve sırasıyla işleme sokuyoruz\n",
    "        mesafe = euclideanDistance(points[i], points[p])\n",
    "        distances.append(mesafe) # hesaplanan her değeri distances e ekliyoruz\n",
    "        \n",
    "min_mesafe = min(distances)  # distances içindeki minimum mesafe için\n",
    "\n",
    "print(\"Minimum mesafe : \", min_distance) # en küçük mesafeyi bulup yazdırdık\n",
    "    \n",
    "\n"
   ]
  },
  {
   "cell_type": "code",
   "execution_count": null,
   "id": "1b81a876",
   "metadata": {},
   "outputs": [],
   "source": []
  }
 ],
 "metadata": {
  "kernelspec": {
   "display_name": "Python 3 (ipykernel)",
   "language": "python",
   "name": "python3"
  },
  "language_info": {
   "codemirror_mode": {
    "name": "ipython",
    "version": 3
   },
   "file_extension": ".py",
   "mimetype": "text/x-python",
   "name": "python",
   "nbconvert_exporter": "python",
   "pygments_lexer": "ipython3",
   "version": "3.11.7"
  }
 },
 "nbformat": 4,
 "nbformat_minor": 5
}
